{
 "cells": [
  {
   "cell_type": "markdown",
   "metadata": {},
   "source": [
    "# Intro"
   ]
  },
  {
   "cell_type": "code",
   "execution_count": 1,
   "metadata": {},
   "outputs": [],
   "source": [
    "%reload_ext autoreload\n",
    "%autoreload 2\n",
    "%matplotlib inline"
   ]
  },
  {
   "cell_type": "code",
   "execution_count": 2,
   "metadata": {},
   "outputs": [
    {
     "ename": "ModuleNotFoundError",
     "evalue": "No module named 'fastai'",
     "output_type": "error",
     "traceback": [
      "\u001b[0;31m---------------------------------------------------------------------------\u001b[0m",
      "\u001b[0;31mModuleNotFoundError\u001b[0m                       Traceback (most recent call last)",
      "\u001b[0;32m<ipython-input-2-9f9378ae0f2a>\u001b[0m in \u001b[0;36m<module>\u001b[0;34m\u001b[0m\n\u001b[0;32m----> 1\u001b[0;31m \u001b[0;32mfrom\u001b[0m \u001b[0mfastai\u001b[0m\u001b[0;34m.\u001b[0m\u001b[0mimports\u001b[0m \u001b[0;32mimport\u001b[0m \u001b[0;34m*\u001b[0m\u001b[0;34m\u001b[0m\u001b[0m\n\u001b[0m",
      "\u001b[0;31mModuleNotFoundError\u001b[0m: No module named 'fastai'"
     ]
    }
   ],
   "source": [
    "from fastai.imports import *"
   ]
  },
  {
   "cell_type": "code",
   "execution_count": 3,
   "metadata": {},
   "outputs": [],
   "source": [
    "from fastai.transforms import *\n",
    "from fastai.conv_learner import *\n",
    "from fastai.model import *\n",
    "from fastai.dataset import *\n",
    "from fastai.sgdr import *\n",
    "from fastai.plots import *\n",
    "from PIL import Image\n",
    "import os\n",
    "import cv2\n",
    "import numpy as np"
   ]
  },
  {
   "cell_type": "code",
   "execution_count": 4,
   "metadata": {},
   "outputs": [],
   "source": [
    "PATH_TO_DATA=\"path/to/data/superfolder/\"\n",
    "PATH = PATH_TO_DATA+\"colorectal_cancer/\""
   ]
  },
  {
   "cell_type": "code",
   "execution_count": 5,
   "metadata": {},
   "outputs": [],
   "source": [
    "def get_data(sz):\n",
    "    tfms = tfms_from_model(resnet34, sz, aug_tfms=transforms_side_on, max_zoom=1.1)\n",
    "    return ImageClassifierData.from_paths(PATH, tfms=tfms_from_model(arch, sz))"
   ]
  },
  {
   "cell_type": "code",
   "execution_count": 6,
   "metadata": {},
   "outputs": [
    {
     "data": {
      "text/plain": [
       "['adipose',\n",
       " 'complex',\n",
       " 'debris',\n",
       " 'empty',\n",
       " 'lympho',\n",
       " 'mucosa',\n",
       " 'stroma',\n",
       " 'tumor']"
      ]
     },
     "execution_count": 6,
     "metadata": {},
     "output_type": "execute_result"
    }
   ],
   "source": [
    "sz=224\n",
    "arch=resnet34\n",
    "data = get_data(sz)\n",
    "data.classes"
   ]
  },
  {
   "cell_type": "markdown",
   "metadata": {},
   "source": [
    "# Choosing a learning rate"
   ]
  },
  {
   "cell_type": "code",
   "execution_count": 7,
   "metadata": {},
   "outputs": [],
   "source": [
    "learn = ConvLearner.pretrained(arch, data)"
   ]
  },
  {
   "cell_type": "code",
   "execution_count": 8,
   "metadata": {},
   "outputs": [
    {
     "data": {
      "application/vnd.jupyter.widget-view+json": {
       "model_id": "7590e2650b88473a96da68dcb8e01c8b",
       "version_major": 2,
       "version_minor": 0
      },
      "text/plain": [
       "HBox(children=(IntProgress(value=0, description='Epoch', max=1, style=ProgressStyle(description_width='initial…"
      ]
     },
     "metadata": {},
     "output_type": "display_data"
    },
    {
     "name": "stdout",
     "output_type": "stream",
     "text": [
      " 96%|█████████▌| 44/46 [00:06<00:00,  8.95it/s, loss=2.76]\n",
      "                                                          \r"
     ]
    }
   ],
   "source": [
    "lrf=learn.lr_find()"
   ]
  },
  {
   "cell_type": "code",
   "execution_count": 9,
   "metadata": {},
   "outputs": [
    {
     "data": {
      "image/png": "[encoded data removed]",
      "text/plain": [
       "<Figure size 432x288 with 1 Axes>"
      ]
     },
     "metadata": {
      "needs_background": "light"
     },
     "output_type": "display_data"
    }
   ],
   "source": [
    "learn.sched.plot_lr()"
   ]
  },
  {
   "cell_type": "code",
   "execution_count": 10,
   "metadata": {},
   "outputs": [
    {
     "data": {
      "image/png": "[encoded data removed]",
      "text/plain": [
       "<Figure size 432x288 with 1 Axes>"
      ]
     },
     "metadata": {
      "needs_background": "light"
     },
     "output_type": "display_data"
    }
   ],
   "source": [
    "learn.sched.plot()"
   ]
  },
  {
   "cell_type": "markdown",
   "metadata": {},
   "source": [
    "## Model training"
   ]
  },
  {
   "cell_type": "code",
   "execution_count": 11,
   "metadata": {},
   "outputs": [],
   "source": [
    "tfms = tfms_from_model(resnet34, sz, aug_tfms=transforms_side_on, max_zoom=1.1)"
   ]
  },
  {
   "cell_type": "code",
   "execution_count": 12,
   "metadata": {},
   "outputs": [],
   "source": [
    "data = ImageClassifierData.from_paths(PATH, tfms=tfms)\n",
    "learn = ConvLearner.pretrained(arch, data)"
   ]
  },
  {
   "cell_type": "code",
   "execution_count": 13,
   "metadata": {},
   "outputs": [
    {
     "data": {
      "application/vnd.jupyter.widget-view+json": {
       "model_id": "f3441eadae4a41439acaff1e16ae1247",
       "version_major": 2,
       "version_minor": 0
      },
      "text/plain": [
       "HBox(children=(IntProgress(value=0, description='Epoch', max=5, style=ProgressStyle(description_width='initial…"
      ]
     },
     "metadata": {},
     "output_type": "display_data"
    },
    {
     "name": "stdout",
     "output_type": "stream",
     "text": [
      "epoch      trn_loss   val_loss   accuracy                  \n",
      "    0      0.733844   0.598476   0.845761  \n",
      "    1      0.567202   0.423138   0.869254                  \n",
      "    2      0.487453   0.382565   0.877426                  \n",
      "    3      0.412465   0.302537   0.906027                  \n",
      "    4      0.376598   0.300826   0.905005                  \n",
      "\n"
     ]
    },
    {
     "data": {
      "text/plain": [
       "[array([0.30083]), 0.9050051069478823]"
      ]
     },
     "execution_count": 13,
     "metadata": {},
     "output_type": "execute_result"
    }
   ],
   "source": [
    "lr=0.08\n",
    "learn.fit(lr, 5)"
   ]
  },
  {
   "cell_type": "code",
   "execution_count": 14,
   "metadata": {},
   "outputs": [],
   "source": [
    "learn.precompute=False"
   ]
  },
  {
   "cell_type": "code",
   "execution_count": 15,
   "metadata": {},
   "outputs": [
    {
     "data": {
      "application/vnd.jupyter.widget-view+json": {
       "model_id": "16967fe171594d018908976a387a5818",
       "version_major": 2,
       "version_minor": 0
      },
      "text/plain": [
       "HBox(children=(IntProgress(value=0, description='Epoch', max=4, style=ProgressStyle(description_width='initial…"
      ]
     },
     "metadata": {},
     "output_type": "display_data"
    },
    {
     "name": "stdout",
     "output_type": "stream",
     "text": [
      "epoch      trn_loss   val_loss   accuracy                  \n",
      "    0      0.27526    0.286111   0.910112  \n",
      "    1      0.248258   0.292121   0.910112                  \n",
      "    2      0.269151   0.291014   0.901941                  \n",
      "    3      0.253227   0.284987   0.914198                  \n",
      "\n"
     ]
    },
    {
     "data": {
      "text/plain": [
       "[array([0.28499]), 0.9141981610847567]"
      ]
     },
     "execution_count": 15,
     "metadata": {},
     "output_type": "execute_result"
    }
   ],
   "source": [
    "learn.fit(lr, 2, cycle_len=2)"
   ]
  },
  {
   "cell_type": "code",
   "execution_count": 16,
   "metadata": {},
   "outputs": [
    {
     "data": {
      "image/png": "[encoded data removed]",
      "text/plain": [
       "<Figure size 432x288 with 1 Axes>"
      ]
     },
     "metadata": {
      "needs_background": "light"
     },
     "output_type": "display_data"
    }
   ],
   "source": [
    "learn.sched.plot_lr()"
   ]
  },
  {
   "cell_type": "code",
   "execution_count": 17,
   "metadata": {},
   "outputs": [],
   "source": [
    "learn.save('224_lastlayer')"
   ]
  },
  {
   "cell_type": "code",
   "execution_count": 18,
   "metadata": {},
   "outputs": [],
   "source": [
    "learn.load('224_lastlayer')"
   ]
  },
  {
   "cell_type": "markdown",
   "metadata": {},
   "source": [
    "## Improving Accuracy with Diff LR"
   ]
  },
  {
   "cell_type": "code",
   "execution_count": 19,
   "metadata": {},
   "outputs": [],
   "source": [
    "learn.unfreeze()"
   ]
  },
  {
   "cell_type": "code",
   "execution_count": 20,
   "metadata": {},
   "outputs": [],
   "source": [
    "lrs=np.array([5e-4,5e-3,5e-2])"
   ]
  },
  {
   "cell_type": "code",
   "execution_count": 21,
   "metadata": {},
   "outputs": [
    {
     "data": {
      "application/vnd.jupyter.widget-view+json": {
       "model_id": "5fbef9be9d0c4b7c95947468270969d1",
       "version_major": 2,
       "version_minor": 0
      },
      "text/plain": [
       "HBox(children=(IntProgress(value=0, description='Epoch', max=3, style=ProgressStyle(description_width='initial…"
      ]
     },
     "metadata": {},
     "output_type": "display_data"
    },
    {
     "name": "stdout",
     "output_type": "stream",
     "text": [
      "epoch      trn_loss   val_loss   accuracy                  \n",
      "    0      0.480474   0.258371   0.91522   \n",
      "    1      0.329731   0.218275   0.933606                  \n",
      "    2      0.219086   0.189764   0.941777                  \n",
      "\n"
     ]
    },
    {
     "data": {
      "text/plain": [
       "[array([0.18976]), 0.941777324225978]"
      ]
     },
     "execution_count": 21,
     "metadata": {},
     "output_type": "execute_result"
    }
   ],
   "source": [
    "learn.fit(lrs, 2, cycle_len=1, cycle_mult=2)"
   ]
  },
  {
   "cell_type": "code",
   "execution_count": 22,
   "metadata": {},
   "outputs": [
    {
     "data": {
      "image/png": "[encoded data removed]",
      "text/plain": [
       "<Figure size 432x288 with 1 Axes>"
      ]
     },
     "metadata": {
      "needs_background": "light"
     },
     "output_type": "display_data"
    }
   ],
   "source": [
    "learn.sched.plot_lr()"
   ]
  },
  {
   "cell_type": "code",
   "execution_count": 23,
   "metadata": {},
   "outputs": [],
   "source": [
    "learn.save('224_all')"
   ]
  },
  {
   "cell_type": "code",
   "execution_count": 24,
   "metadata": {},
   "outputs": [],
   "source": [
    "learn.load('224_all')"
   ]
  },
  {
   "cell_type": "code",
   "execution_count": 25,
   "metadata": {},
   "outputs": [
    {
     "name": "stdout",
     "output_type": "stream",
     "text": [
      "                                             \r"
     ]
    }
   ],
   "source": [
    "log_preds,y = learn.TTA()\n",
    "probs = np.mean(np.exp(log_preds),0)"
   ]
  },
  {
   "cell_type": "code",
   "execution_count": 26,
   "metadata": {
    "scrolled": true
   },
   "outputs": [
    {
     "data": {
      "text/plain": [
       "0.940755873340143"
      ]
     },
     "execution_count": 26,
     "metadata": {},
     "output_type": "execute_result"
    }
   ],
   "source": [
    "accuracy_np(probs, y)"
   ]
  },
  {
   "cell_type": "markdown",
   "metadata": {},
   "source": [
    "# Analyzing results"
   ]
  },
  {
   "cell_type": "markdown",
   "metadata": {},
   "source": [
    "## Confusion matrix"
   ]
  },
  {
   "cell_type": "code",
   "execution_count": 27,
   "metadata": {},
   "outputs": [],
   "source": [
    "preds = np.argmax(probs, axis=1)\n",
    "probs = probs[:,1]"
   ]
  },
  {
   "cell_type": "code",
   "execution_count": 28,
   "metadata": {},
   "outputs": [],
   "source": [
    "from sklearn.metrics import confusion_matrix\n",
    "cm = confusion_matrix(y, preds)"
   ]
  },
  {
   "cell_type": "code",
   "execution_count": 29,
   "metadata": {},
   "outputs": [
    {
     "name": "stdout",
     "output_type": "stream",
     "text": [
      "[[121   0   1   3   0   0   0   0]\n",
      " [  0 113   0   0   3   0   8   0]\n",
      " [  0   2 145   0   0   0   4   0]\n",
      " [  0   0   0 103   0   0   0   0]\n",
      " [  0  16   0   0  93   0   0   0]\n",
      " [  0   2   0   0   2 127   0   0]\n",
      " [  0   7   2   0   1   0 106   0]\n",
      " [  0   2   0   0   0   4   1 113]]\n"
     ]
    },
    {
     "data": {
      "image/png": "[encoded data removed]",
      "text/plain": [
       "<Figure size 432x288 with 2 Axes>"
      ]
     },
     "metadata": {
      "needs_background": "light"
     },
     "output_type": "display_data"
    }
   ],
   "source": [
    "plot_confusion_matrix(cm, data.classes)"
   ]
  },
  {
   "cell_type": "markdown",
   "metadata": {},
   "source": [
    "# WSI application"
   ]
  },
  {
   "cell_type": "markdown",
   "metadata": {},
   "source": [
    "## Data treatment"
   ]
  },
  {
   "cell_type": "code",
   "execution_count": 30,
   "metadata": {},
   "outputs": [],
   "source": [
    "# Set working directory to large 10 images\n",
    "workingdir = 'point/to/Kather_texture_2016_larger_images_10/'"
   ]
  },
  {
   "cell_type": "markdown",
   "metadata": {},
   "source": [
    "## Image fragmentation"
   ]
  },
  {
   "cell_type": "code",
   "execution_count": 31,
   "metadata": {},
   "outputs": [],
   "source": [
    "def image_slice(image_path, outdir, sliceHeight, sliceWidth):\n",
    "    img = Image.open(image_path) # Load image\n",
    "    imageWidth, imageHeight = img.size # Get image dimensions\n",
    "    left = 0 # Set the left-most edge\n",
    "    upper = 0 # Set the top-most edge\n",
    "    while (left < imageWidth):\n",
    "        while (upper < imageHeight):\n",
    "            # If the bottom and right of the cropping box overruns the image.\n",
    "            if (upper + sliceHeight > imageHeight and \\\n",
    "                left + sliceWidth > imageWidth):\n",
    "                bbox = (left, upper, imageWidth, imageHeight)\n",
    "            # If the right of the cropping box overruns the image\n",
    "            elif (left + sliceWidth > imageWidth):\n",
    "                bbox = (left, upper, imageWidth, upper + sliceHeight)\n",
    "            # If the bottom of the cropping box overruns the image\n",
    "            elif (upper + sliceHeight > imageHeight):\n",
    "                bbox = (left, upper, left + sliceWidth, imageHeight)\n",
    "            # If the entire cropping box is inside the image,\n",
    "            # proceed normally.\n",
    "            else:\n",
    "                bbox = (left, upper, left + sliceWidth, upper + sliceHeight)\n",
    "            working_slice = img.crop(bbox) # Crop image based on created bounds\n",
    "            # Save your new cropped image.\n",
    "            working_slice.save(os.path.join(outdir, str(upper) + '_' + str(left) + '.jpg'))\n",
    "            upper += sliceHeight # Increment the horizontal position\n",
    "        left += sliceWidth # Increment the vertical position\n",
    "        upper = 0"
   ]
  },
  {
   "cell_type": "code",
   "execution_count": 32,
   "metadata": {},
   "outputs": [],
   "source": [
    "#name of the large images\n",
    "files_to_move=!ls {workingdir} | grep CRC"
   ]
  },
  {
   "cell_type": "code",
   "execution_count": 33,
   "metadata": {},
   "outputs": [
    {
     "name": "stdout",
     "output_type": "stream",
     "text": [
      "mkdir: cannot create directory ‘/home/deak/fastai/data/Kather_texture_2016_larger_images_10/1’: File exists\n",
      "mkdir: cannot create directory ‘/home/deak/fastai/data/Kather_texture_2016_larger_images_10/2’: File exists\n",
      "mkdir: cannot create directory ‘/home/deak/fastai/data/Kather_texture_2016_larger_images_10/3’: File exists\n",
      "mkdir: cannot create directory ‘/home/deak/fastai/data/Kather_texture_2016_larger_images_10/4’: File exists\n",
      "mkdir: cannot create directory ‘/home/deak/fastai/data/Kather_texture_2016_larger_images_10/5’: File exists\n",
      "mkdir: cannot create directory ‘/home/deak/fastai/data/Kather_texture_2016_larger_images_10/6’: File exists\n",
      "mkdir: cannot create directory ‘/home/deak/fastai/data/Kather_texture_2016_larger_images_10/7’: File exists\n",
      "mkdir: cannot create directory ‘/home/deak/fastai/data/Kather_texture_2016_larger_images_10/8’: File exists\n",
      "mkdir: cannot create directory ‘/home/deak/fastai/data/Kather_texture_2016_larger_images_10/9’: File exists\n",
      "mkdir: cannot create directory ‘/home/deak/fastai/data/Kather_texture_2016_larger_images_10/10’: File exists\n"
     ]
    }
   ],
   "source": [
    "#Move large kather slides to their directories from a folder with those images only\n",
    "for i in range(1,11):\n",
    "    !mkdir {workingdir+str(i)}\n",
    "    !mv {workingdir+files_to_move[i-1]} {workingdir+str(i)+'/'+files_to_move[i-1]}"
   ]
  },
  {
   "cell_type": "code",
   "execution_count": 34,
   "metadata": {},
   "outputs": [],
   "source": [
    "# Run to slice the large images in the folders they are still\n",
    "if __name__ == '__main__':\n",
    "    # Iterate through all the files in a set of directories.\n",
    "    for subdir, dirs, files in os.walk(workingdir):\n",
    "        for file in files:\n",
    "            image_slice(subdir + '/' + file, subdir, 150, 150)"
   ]
  },
  {
   "cell_type": "code",
   "execution_count": 35,
   "metadata": {},
   "outputs": [],
   "source": [
    "#extract large images from slided images folder\n",
    "for i in range(1,11):\n",
    "    !mv {workingdir+str(i)+'/'+files_to_move[i-1]} {workingdir+files_to_move[i-1]} "
   ]
  },
  {
   "cell_type": "markdown",
   "metadata": {},
   "source": [
    "# Individual prediction"
   ]
  },
  {
   "cell_type": "code",
   "execution_count": 36,
   "metadata": {
    "scrolled": false
   },
   "outputs": [],
   "source": [
    "trn_tfms, val_tfms = tfms"
   ]
  },
  {
   "cell_type": "code",
   "execution_count": 37,
   "metadata": {},
   "outputs": [],
   "source": [
    "for i in range(1,11):\n",
    "        if i==1: files1 = os.listdir(f'{workingdir}'+f'{i}')\n",
    "        if i==2: files2 = os.listdir(f'{workingdir}'+f'{i}')\n",
    "        if i==3: files3 = os.listdir(f'{workingdir}'+f'{i}')\n",
    "        if i==4: files4 = os.listdir(f'{workingdir}'+f'{i}')\n",
    "        if i==5: files5 = os.listdir(f'{workingdir}'+f'{i}')\n",
    "        if i==6: files6 = os.listdir(f'{workingdir}'+f'{i}')\n",
    "        if i==7: files7 = os.listdir(f'{workingdir}'+f'{i}')\n",
    "        if i==8: files8 = os.listdir(f'{workingdir}'+f'{i}')\n",
    "        if i==9: files9 = os.listdir(f'{workingdir}'+f'{i}')\n",
    "        if i==10: files10 = os.listdir(f'{workingdir}'+f'{i}')"
   ]
  },
  {
   "cell_type": "code",
   "execution_count": 40,
   "metadata": {},
   "outputs": [],
   "source": [
    "def pintar(width, height):\n",
    "    negre = (0,0,0)\n",
    "    gris = (120,120,120)\n",
    "    blanc = (1000,1000,1000)\n",
    "    lila = (150,20,147)\n",
    "    blau = (23,140,190)\n",
    "    groc = (240,220,20)\n",
    "    verd = (0,210,10)\n",
    "    tronja = (240,120,30)\n",
    "    for x in range(width):\n",
    "        for y in range(height):     \n",
    "            if prediccions[a]== 'empty': pixels[x, y] = negre\n",
    "            if prediccions[a]== 'adipose': pixels[x, y] = gris\n",
    "            if prediccions[a]== 'mucosa': pixels[x, y] = blanc\n",
    "            if prediccions[a]== 'debris': pixels[x, y] = lila\n",
    "            if prediccions[a]== 'complex': pixels[x, y] = groc\n",
    "            if prediccions[a]== 'stroma': pixels[x, y] = verd\n",
    "            if prediccions[a]== 'tumor': pixels[x, y] = tronja\n",
    "            if prediccions[a]== 'lympho': pixels[x, y] = blau"
   ]
  },
  {
   "cell_type": "code",
   "execution_count": 41,
   "metadata": {},
   "outputs": [],
   "source": [
    "for i in range(1,11):\n",
    "    prediccions = list()\n",
    "    PATH_LARGE_SUBDIR=f'{workingdir}'+f'{i}'+\"/\"\n",
    "    if i==1:\n",
    "        for a in range(len(files1)):\n",
    "            im = val_tfms(open_image(PATH_LARGE_SUBDIR + files1[a]))\n",
    "            preds1 = learn.predict_array(im[None])\n",
    "            prediccions.append(learn.data.classes[np.argmax(preds1)])\n",
    "            imagen = Image.open(PATH_LARGE_SUBDIR+files1[a])\n",
    "            pixels = imagen.load()\n",
    "            width, height = imagen.size\n",
    "            pintar(width,height)\n",
    "            imagen.save(PATH_LARGE_SUBDIR + files1[a], 'JPEG')\n",
    "    if i==2:\n",
    "        for a in range(len(files2)):\n",
    "            im = val_tfms(open_image(PATH_LARGE_SUBDIR + files2[a])) \n",
    "            preds2 = learn.predict_array(im[None])\n",
    "            prediccions.append(learn.data.classes[np.argmax(preds2)])\n",
    "            imagen = Image.open(PATH_LARGE_SUBDIR+files2[a])\n",
    "            pixels = imagen.load()\n",
    "            width, height = imagen.size\n",
    "            pintar(width,height)\n",
    "            imagen.save(PATH_LARGE_SUBDIR + files2[a], 'JPEG')\n",
    "    if i==3:\n",
    "        for a in range(len(files3)):\n",
    "            im = val_tfms(open_image(PATH_LARGE_SUBDIR + files3[a])) \n",
    "            preds3 = learn.predict_array(im[None])\n",
    "            prediccions.append(learn.data.classes[np.argmax(preds3)])\n",
    "            imagen = Image.open(PATH_LARGE_SUBDIR+files3[a])\n",
    "            pixels = imagen.load()\n",
    "            width, height = imagen.size\n",
    "            pintar(width,height)\n",
    "            imagen.save(PATH_LARGE_SUBDIR + files3[a], 'JPEG')\n",
    "    if i==4:\n",
    "        for a in range(len(files4)):\n",
    "            im = val_tfms(open_image(PATH_LARGE_SUBDIR + files4[a])) \n",
    "            preds4 = learn.predict_array(im[None])\n",
    "            prediccions.append(learn.data.classes[np.argmax(preds4)])\n",
    "            imagen = Image.open(PATH_LARGE_SUBDIR+files4[a])\n",
    "            pixels = imagen.load()\n",
    "            width, height = imagen.size\n",
    "            pintar(width,height)\n",
    "            imagen.save(PATH_LARGE_SUBDIR + files4[a], 'JPEG')\n",
    "    if i==5:\n",
    "        for a in range(len(files5)):\n",
    "            im = val_tfms(open_image(PATH_LARGE_SUBDIR + files5[a])) \n",
    "            preds5 = learn.predict_array(im[None])\n",
    "            prediccions.append(learn.data.classes[np.argmax(preds5)])\n",
    "            imagen = Image.open(PATH_LARGE_SUBDIR+files5[a])\n",
    "            pixels = imagen.load()\n",
    "            width, height = imagen.size\n",
    "            pintar(width,height)\n",
    "            imagen.save(PATH_LARGE_SUBDIR + files5[a], 'JPEG')\n",
    "    if i==6:\n",
    "        for a in range(len(files6)):\n",
    "            im = val_tfms(open_image(PATH_LARGE_SUBDIR + files6[a])) \n",
    "            preds6 = learn.predict_array(im[None])\n",
    "            prediccions.append(learn.data.classes[np.argmax(preds6)])\n",
    "            imagen = Image.open(PATH_LARGE_SUBDIR+files6[a])\n",
    "            pixels = imagen.load()\n",
    "            width, height = imagen.size\n",
    "            pintar(width,height)\n",
    "            imagen.save(PATH_LARGE_SUBDIR + files6[a], 'JPEG')\n",
    "    if i==7:\n",
    "        for a in range(len(files7)):\n",
    "            im = val_tfms(open_image(PATH_LARGE_SUBDIR + files7[a])) \n",
    "            preds7 = learn.predict_array(im[None])\n",
    "            prediccions.append(learn.data.classes[np.argmax(preds7)])\n",
    "            imagen = Image.open(PATH_LARGE_SUBDIR+files7[a])\n",
    "            pixels = imagen.load()\n",
    "            width, height = imagen.size\n",
    "            pintar(width,height)\n",
    "            imagen.save(PATH_LARGE_SUBDIR + files7[a], 'JPEG')\n",
    "    if i==8:\n",
    "        for a in range(len(files8)):\n",
    "            im = val_tfms(open_image(PATH_LARGE_SUBDIR + files8[a])) \n",
    "            preds8 = learn.predict_array(im[None])\n",
    "            prediccions.append(learn.data.classes[np.argmax(preds8)])\n",
    "            imagen = Image.open(PATH_LARGE_SUBDIR+files8[a])\n",
    "            pixels = imagen.load()\n",
    "            width, height = imagen.size\n",
    "            pintar(width,height)\n",
    "            imagen.save(PATH_LARGE_SUBDIR + files8[a], 'JPEG')\n",
    "    if i==9:\n",
    "        for a in range(len(files9)):\n",
    "            im = val_tfms(open_image(PATH_LARGE_SUBDIR + files9[a])) \n",
    "            preds9 = learn.predict_array(im[None])\n",
    "            prediccions.append(learn.data.classes[np.argmax(preds9)])\n",
    "            imagen = Image.open(PATH_LARGE_SUBDIR+files9[a])\n",
    "            pixels = imagen.load()\n",
    "            width, height = imagen.size\n",
    "            pintar(width,height)\n",
    "            imagen.save(PATH_LARGE_SUBDIR + files9[a], 'JPEG')\n",
    "    if i==10:\n",
    "        for a in range(len(files10)):\n",
    "            im = val_tfms(open_image(PATH_LARGE_SUBDIR + files9[a])) \n",
    "            preds10 = learn.predict_array(im[None])\n",
    "            prediccions.append(learn.data.classes[np.argmax(preds10)])\n",
    "            imagen = Image.open(PATH_LARGE_SUBDIR+files10[a])\n",
    "            pixels = imagen.load()\n",
    "            width, height = imagen.size\n",
    "            pintar(width,height)\n",
    "            imagen.save(PATH_LARGE_SUBDIR + files10[a], 'JPEG')\n",
    "    "
   ]
  },
  {
   "cell_type": "markdown",
   "metadata": {},
   "source": [
    "## Rebuild WSI with classifications"
   ]
  },
  {
   "cell_type": "code",
   "execution_count": 42,
   "metadata": {},
   "outputs": [],
   "source": [
    "#ensamble large images with predicted colors\n",
    "for g in range(len(files_to_move)):\n",
    "    imagen = Image.open(workingdir+files_to_move[g])\n",
    "    slices = !ls {workingdir+str(g+1)+'/'} #names of the sliced squares\n",
    "    for i in range(len(slices)): #for each slice in the folder\n",
    "        j=0\n",
    "        k=1 #counters to number the length of the elements\n",
    "        vertical= str()\n",
    "        horitzontal= str()\n",
    "        while slices[i][j]!=\"_\": #following the name architecture to obtain the position of the image\n",
    "            vertical= vertical+slices[i][j]\n",
    "            j=j+1\n",
    "        while slices[i][len(vertical)+k]!=\".\":\n",
    "            horitzontal= horitzontal+slices[i][len(vertical)+k]\n",
    "            k=k+1\n",
    "        sliced = Image.open(workingdir+str(g+1)+'/'+vertical+\"_\"+horitzontal+'.jpg')\n",
    "        imagen.paste(sliced,(int(horitzontal),int(vertical)))\n",
    "    imagen.save(f'{PATH_TO_DATA}'+f'{files_to_move[g]}')"
   ]
  },
  {
   "cell_type": "markdown",
   "metadata": {},
   "source": [
    "Resulting images have been classified by the algorithm without the supervision of any kind of doctor."
   ]
  }
 ],
 "metadata": {
  "kernelspec": {
   "display_name": "Python 3",
   "language": "python",
   "name": "python3"
  },
  "language_info": {
   "codemirror_mode": {
    "name": "ipython",
    "version": 3
   },
   "file_extension": ".py",
   "mimetype": "text/x-python",
   "name": "python",
   "nbconvert_exporter": "python",
   "pygments_lexer": "ipython3",
   "version": "3.6.6"
  }
 },
 "nbformat": 4,
 "nbformat_minor": 2
}
